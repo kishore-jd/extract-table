{
 "cells": [
  {
   "cell_type": "code",
   "execution_count": 19,
   "metadata": {
    "id": "PTJ_VLizHTLp"
   },
   "outputs": [],
   "source": [
    "try:\n",
    "    import spacy\n",
    "    import json\n",
    "except Exception as e:\n",
    "    print(e)\n",
    "    \n",
    "\n",
    "class EntityGenerator(object):\n",
    "    \n",
    "    _slots__ = ['text']\n",
    "    \n",
    "    def __init__(self, text=None):\n",
    "        self.text = text\n",
    "        \n",
    "    def get(self):\n",
    "        \"\"\"\n",
    "        Return a Json\n",
    "        \"\"\"\n",
    "        nlp = spacy.load(\"en_core_web_sm\")\n",
    "        doc = nlp(self.text)\n",
    "        text = [ent.text for ent in doc.ents]\n",
    "        entity = [ent.label_ for ent in doc.ents]\n",
    "    \n",
    "        from collections import Counter\n",
    "        import json\n",
    "\n",
    "        data = Counter(zip(entity))\n",
    "        unique_entity = list(data.keys())\n",
    "        unique_entity = [x[0] for x in unique_entity]\n",
    "\n",
    "        d = {}\n",
    "        for val in unique_entity:\n",
    "            d[val] = []\n",
    "\n",
    "        for key,val in dict(zip(text, entity)).items():\n",
    "            if val in unique_entity:\n",
    "                d[val].append(key)\n",
    "        return d\n"
   ]
  },
  {
   "cell_type": "code",
   "execution_count": 20,
   "metadata": {
    "id": "g-gOcFFyHa2y"
   },
   "outputs": [],
   "source": [
    "try:\n",
    "    import PyPDF2\n",
    "    import requests\n",
    "    import json\n",
    "except Exception:\n",
    "    pass\n",
    "\n",
    "class Resume(object):\n",
    "    def __init__(self, filename=None):\n",
    "        self.filename = filename\n",
    "        \n",
    "    def get(self):\n",
    "        \"\"\"\n",
    "        \n",
    "        \"\"\"\n",
    "        fFileObj = open(self.filename, 'rb')\n",
    "        pdfReader = PyPDF2.PdfFileReader(fFileObj)\n",
    "        pageObj = pdfReader.getPage(0)\n",
    "        print(\"Total Pages : {} \".format(pdfReader.numPages))\n",
    "\n",
    "        resume = pageObj.extractText()\n",
    "        return resume\n",
    "        "
   ]
  },
  {
   "cell_type": "code",
   "execution_count": 21,
   "metadata": {
    "id": "EmCxEesVHbKy"
   },
   "outputs": [
    {
     "name": "stdout",
     "output_type": "stream",
     "text": [
      "Total Pages : 1 \n"
     ]
    }
   ],
   "source": [
    "resume = Resume(filename=\"01.pdf\")\n",
    "response_news = resume.get()"
   ]
  },
  {
   "cell_type": "code",
   "execution_count": 22,
   "metadata": {
    "id": "cPezu7RcHbNr"
   },
   "outputs": [
    {
     "ename": "OSError",
     "evalue": "[E050] Can't find model 'en_core_web_sm'. It doesn't seem to be a shortcut link, a Python package or a valid path to a data directory.",
     "output_type": "error",
     "traceback": [
      "\u001b[1;31m---------------------------------------------------------------------------\u001b[0m",
      "\u001b[1;31mOSError\u001b[0m                                   Traceback (most recent call last)",
      "\u001b[1;32m<ipython-input-22-71e2845dd0bc>\u001b[0m in \u001b[0;36m<module>\u001b[1;34m\u001b[0m\n\u001b[0;32m      1\u001b[0m \u001b[0mhelper\u001b[0m \u001b[1;33m=\u001b[0m \u001b[0mEntityGenerator\u001b[0m\u001b[1;33m(\u001b[0m\u001b[0mtext\u001b[0m\u001b[1;33m=\u001b[0m\u001b[0mresponse_news\u001b[0m\u001b[1;33m)\u001b[0m\u001b[1;33m\u001b[0m\u001b[1;33m\u001b[0m\u001b[0m\n\u001b[1;32m----> 2\u001b[1;33m \u001b[0mresponse\u001b[0m \u001b[1;33m=\u001b[0m \u001b[0mhelper\u001b[0m\u001b[1;33m.\u001b[0m\u001b[0mget\u001b[0m\u001b[1;33m(\u001b[0m\u001b[1;33m)\u001b[0m\u001b[1;33m\u001b[0m\u001b[1;33m\u001b[0m\u001b[0m\n\u001b[0m\u001b[0;32m      3\u001b[0m \u001b[0mprint\u001b[0m\u001b[1;33m(\u001b[0m\u001b[0mjson\u001b[0m\u001b[1;33m.\u001b[0m\u001b[0mdumps\u001b[0m\u001b[1;33m(\u001b[0m\u001b[0mresponse\u001b[0m \u001b[1;33m,\u001b[0m \u001b[0mindent\u001b[0m\u001b[1;33m=\u001b[0m\u001b[1;36m3\u001b[0m\u001b[1;33m)\u001b[0m\u001b[1;33m)\u001b[0m\u001b[1;33m\u001b[0m\u001b[1;33m\u001b[0m\u001b[0m\n",
      "\u001b[1;32m<ipython-input-19-abeac06e03ca>\u001b[0m in \u001b[0;36mget\u001b[1;34m(self)\u001b[0m\n\u001b[0;32m     17\u001b[0m         \u001b[0mReturn\u001b[0m \u001b[0ma\u001b[0m \u001b[0mJson\u001b[0m\u001b[1;33m\u001b[0m\u001b[1;33m\u001b[0m\u001b[0m\n\u001b[0;32m     18\u001b[0m         \"\"\"\n\u001b[1;32m---> 19\u001b[1;33m         \u001b[0mnlp\u001b[0m \u001b[1;33m=\u001b[0m \u001b[0mspacy\u001b[0m\u001b[1;33m.\u001b[0m\u001b[0mload\u001b[0m\u001b[1;33m(\u001b[0m\u001b[1;34m\"en_core_web_sm\"\u001b[0m\u001b[1;33m)\u001b[0m\u001b[1;33m\u001b[0m\u001b[1;33m\u001b[0m\u001b[0m\n\u001b[0m\u001b[0;32m     20\u001b[0m         \u001b[0mdoc\u001b[0m \u001b[1;33m=\u001b[0m \u001b[0mnlp\u001b[0m\u001b[1;33m(\u001b[0m\u001b[0mself\u001b[0m\u001b[1;33m.\u001b[0m\u001b[0mtext\u001b[0m\u001b[1;33m)\u001b[0m\u001b[1;33m\u001b[0m\u001b[1;33m\u001b[0m\u001b[0m\n\u001b[0;32m     21\u001b[0m         \u001b[0mtext\u001b[0m \u001b[1;33m=\u001b[0m \u001b[1;33m[\u001b[0m\u001b[0ment\u001b[0m\u001b[1;33m.\u001b[0m\u001b[0mtext\u001b[0m \u001b[1;32mfor\u001b[0m \u001b[0ment\u001b[0m \u001b[1;32min\u001b[0m \u001b[0mdoc\u001b[0m\u001b[1;33m.\u001b[0m\u001b[0ments\u001b[0m\u001b[1;33m]\u001b[0m\u001b[1;33m\u001b[0m\u001b[1;33m\u001b[0m\u001b[0m\n",
      "\u001b[1;32mC:\\ProgramData\\Anaconda3\\lib\\site-packages\\spacy\\__init__.py\u001b[0m in \u001b[0;36mload\u001b[1;34m(name, **overrides)\u001b[0m\n\u001b[0;32m     28\u001b[0m     \u001b[1;32mif\u001b[0m \u001b[0mdepr_path\u001b[0m \u001b[1;32mnot\u001b[0m \u001b[1;32min\u001b[0m \u001b[1;33m(\u001b[0m\u001b[1;32mTrue\u001b[0m\u001b[1;33m,\u001b[0m \u001b[1;32mFalse\u001b[0m\u001b[1;33m,\u001b[0m \u001b[1;32mNone\u001b[0m\u001b[1;33m)\u001b[0m\u001b[1;33m:\u001b[0m\u001b[1;33m\u001b[0m\u001b[1;33m\u001b[0m\u001b[0m\n\u001b[0;32m     29\u001b[0m         \u001b[0mwarnings\u001b[0m\u001b[1;33m.\u001b[0m\u001b[0mwarn\u001b[0m\u001b[1;33m(\u001b[0m\u001b[0mWarnings\u001b[0m\u001b[1;33m.\u001b[0m\u001b[0mW001\u001b[0m\u001b[1;33m.\u001b[0m\u001b[0mformat\u001b[0m\u001b[1;33m(\u001b[0m\u001b[0mpath\u001b[0m\u001b[1;33m=\u001b[0m\u001b[0mdepr_path\u001b[0m\u001b[1;33m)\u001b[0m\u001b[1;33m,\u001b[0m \u001b[0mDeprecationWarning\u001b[0m\u001b[1;33m)\u001b[0m\u001b[1;33m\u001b[0m\u001b[1;33m\u001b[0m\u001b[0m\n\u001b[1;32m---> 30\u001b[1;33m     \u001b[1;32mreturn\u001b[0m \u001b[0mutil\u001b[0m\u001b[1;33m.\u001b[0m\u001b[0mload_model\u001b[0m\u001b[1;33m(\u001b[0m\u001b[0mname\u001b[0m\u001b[1;33m,\u001b[0m \u001b[1;33m**\u001b[0m\u001b[0moverrides\u001b[0m\u001b[1;33m)\u001b[0m\u001b[1;33m\u001b[0m\u001b[1;33m\u001b[0m\u001b[0m\n\u001b[0m\u001b[0;32m     31\u001b[0m \u001b[1;33m\u001b[0m\u001b[0m\n\u001b[0;32m     32\u001b[0m \u001b[1;33m\u001b[0m\u001b[0m\n",
      "\u001b[1;32mC:\\ProgramData\\Anaconda3\\lib\\site-packages\\spacy\\util.py\u001b[0m in \u001b[0;36mload_model\u001b[1;34m(name, **overrides)\u001b[0m\n\u001b[0;32m    173\u001b[0m     \u001b[1;32melif\u001b[0m \u001b[0mhasattr\u001b[0m\u001b[1;33m(\u001b[0m\u001b[0mname\u001b[0m\u001b[1;33m,\u001b[0m \u001b[1;34m\"exists\"\u001b[0m\u001b[1;33m)\u001b[0m\u001b[1;33m:\u001b[0m  \u001b[1;31m# Path or Path-like to model data\u001b[0m\u001b[1;33m\u001b[0m\u001b[1;33m\u001b[0m\u001b[0m\n\u001b[0;32m    174\u001b[0m         \u001b[1;32mreturn\u001b[0m \u001b[0mload_model_from_path\u001b[0m\u001b[1;33m(\u001b[0m\u001b[0mname\u001b[0m\u001b[1;33m,\u001b[0m \u001b[1;33m**\u001b[0m\u001b[0moverrides\u001b[0m\u001b[1;33m)\u001b[0m\u001b[1;33m\u001b[0m\u001b[1;33m\u001b[0m\u001b[0m\n\u001b[1;32m--> 175\u001b[1;33m     \u001b[1;32mraise\u001b[0m \u001b[0mIOError\u001b[0m\u001b[1;33m(\u001b[0m\u001b[0mErrors\u001b[0m\u001b[1;33m.\u001b[0m\u001b[0mE050\u001b[0m\u001b[1;33m.\u001b[0m\u001b[0mformat\u001b[0m\u001b[1;33m(\u001b[0m\u001b[0mname\u001b[0m\u001b[1;33m=\u001b[0m\u001b[0mname\u001b[0m\u001b[1;33m)\u001b[0m\u001b[1;33m)\u001b[0m\u001b[1;33m\u001b[0m\u001b[1;33m\u001b[0m\u001b[0m\n\u001b[0m\u001b[0;32m    176\u001b[0m \u001b[1;33m\u001b[0m\u001b[0m\n\u001b[0;32m    177\u001b[0m \u001b[1;33m\u001b[0m\u001b[0m\n",
      "\u001b[1;31mOSError\u001b[0m: [E050] Can't find model 'en_core_web_sm'. It doesn't seem to be a shortcut link, a Python package or a valid path to a data directory."
     ]
    }
   ],
   "source": [
    "helper = EntityGenerator(text=response_news)\n",
    "response = helper.get()\n",
    "print(json.dumps(response , indent=3))"
   ]
  },
  {
   "cell_type": "code",
   "execution_count": 23,
   "metadata": {
    "id": "RsIQNtpRHbQS"
   },
   "outputs": [],
   "source": [
    "import spacy\n",
    "import random"
   ]
  },
  {
   "cell_type": "code",
   "execution_count": 24,
   "metadata": {
    "id": "Ah16bKtIHbTC"
   },
   "outputs": [],
   "source": [
    "try:\n",
    "    import PyPDF2\n",
    "    import requests\n",
    "    import json\n",
    "except Exception:\n",
    "    pass\n",
    "\n",
    "class Resume(object):\n",
    "    def __init__(self, filename=None):\n",
    "        self.filename = filename\n",
    "        \n",
    "    def get(self):\n",
    "        \"\"\"\n",
    "        \n",
    "        \"\"\"\n",
    "        fFileObj = open(self.filename, 'rb')\n",
    "        pdfReader = PyPDF2.PdfFileReader(fFileObj)\n",
    "        pageObj = pdfReader.getPage(0)\n",
    "        print(\"Total Pages : {} \".format(pdfReader.numPages))\n",
    "\n",
    "        resume = pageObj.extractText()\n",
    "        return resume\n"
   ]
  },
  {
   "cell_type": "code",
   "execution_count": 25,
   "metadata": {
    "id": "zTkoECf0HbVi"
   },
   "outputs": [],
   "source": [
    "TRAIN_DATA = [('what is the price of polo?', {'entities': [(21, 25, 'PrdName')]}), \n",
    "              ('what is the price of ball?', {'entities': [(21, 25, 'PrdName')]}), \n",
    "              ('what is the price of jegging?', {'entities': [(21, 28, 'PrdName')]}), \n",
    "              ('what is the price of t-shirt?', {'entities': [(21, 28, 'PrdName')]}), \n",
    "              ('what is the price of jeans?', {'entities': [(21, 26, 'PrdName')]}), \n",
    "              ('what is the price of bat?', {'entities': [(21, 24, 'PrdName')]}), \n",
    "              ('what is the price of shirt?', {'entities': [(21, 26, 'PrdName')]}), \n",
    "              ('what is the price of bag?', {'entities': [(21, 24, 'PrdName')]}), \n",
    "              ('what is the price of cup?', {'entities': [(21, 24, 'PrdName')]}), \n",
    "              ('what is the price of jug?', {'entities': [(21, 24, 'PrdName')]}), \n",
    "              ('what is the price of plate?', {'entities': [(21, 26, 'PrdName')]}), \n",
    "              ('what is the price of glass?', {'entities': [(21, 26, 'PrdName')]}), \n",
    "              ('what is the price of moniter?', {'entities': [(21, 28, 'PrdName')]}), \n",
    "              ('what is the price of desktop?', {'entities': [(21, 28, 'PrdName')]}), \n",
    "              ('what is the price of bottle?', {'entities': [(21, 27, 'PrdName')]}), \n",
    "              ('what is the price of mouse?', {'entities': [(21, 26, 'PrdName')]}), \n",
    "              ('what is the price of keyboad?', {'entities': [(21, 28, 'PrdName')]}), \n",
    "              ('what is the price of chair?', {'entities': [(21, 26, 'PrdName')]}), \n",
    "              ('what is the price of table?', {'entities': [(21, 26, 'PrdName')]}), \n",
    "              ('what is the price of watch?', {'entities': [(21, 26, 'PrdName')]})]"
   ]
  },
  {
   "cell_type": "code",
   "execution_count": null,
   "metadata": {
    "id": "VRmaD0wQHzsK"
   },
   "outputs": [
    {
     "name": "stdout",
     "output_type": "stream",
     "text": [
      "Statring iteration 0\n",
      "{'ner': 44.227498160034884}\n",
      "Statring iteration 1\n",
      "{'ner': 2.6244075757769014}\n",
      "Statring iteration 2\n",
      "{'ner': 1.9988614469775268}\n",
      "Statring iteration 3\n",
      "{'ner': 1.822001607304614}\n",
      "Statring iteration 4\n",
      "{'ner': 5.792839585570712}\n",
      "Statring iteration 5\n",
      "{'ner': 2.9163491708240366}\n",
      "Statring iteration 6\n",
      "{'ner': 2.36347398883312}\n",
      "Statring iteration 7\n",
      "{'ner': 2.497447108379748}\n",
      "Statring iteration 8\n",
      "{'ner': 3.4234211431280936}\n",
      "Statring iteration 9\n",
      "{'ner': 0.8383490208964799}\n",
      "Statring iteration 10\n",
      "{'ner': 2.784416362023615}\n",
      "Statring iteration 11\n",
      "{'ner': 1.9046385119058034}\n",
      "Statring iteration 12\n",
      "{'ner': 1.5931402991036214}\n",
      "Statring iteration 13\n",
      "{'ner': 3.4204691318867715}\n",
      "Statring iteration 14\n",
      "{'ner': 1.069191346151079}\n",
      "Statring iteration 15\n",
      "{'ner': 2.2588303641948477}\n",
      "Statring iteration 16\n",
      "{'ner': 3.831201329744497}\n",
      "Statring iteration 17\n",
      "{'ner': 2.043043507677177}\n",
      "Statring iteration 18\n",
      "{'ner': 0.032025961652946786}\n",
      "Statring iteration 19\n",
      "{'ner': 0.01746881831216073}\n"
     ]
    }
   ],
   "source": [
    "def train_spacy(data,iterations):\n",
    "    TRAIN_DATA = data\n",
    "    nlp = spacy.blank('en')  # create blank Language class\n",
    "    # create the built-in pipeline components and add them to the pipeline\n",
    "    # nlp.create_pipe works for built-ins that are registered with spaCy\n",
    "    if 'ner' not in nlp.pipe_names:\n",
    "        ner = nlp.create_pipe('ner')\n",
    "        nlp.add_pipe(ner, last=True)\n",
    "       \n",
    "\n",
    "    # add labels\n",
    "    for _, annotations in TRAIN_DATA:\n",
    "         for ent in annotations.get('entities'):\n",
    "            ner.add_label(ent[2])\n",
    "\n",
    "    # get names of other pipes to disable them during training\n",
    "    other_pipes = [pipe for pipe in nlp.pipe_names if pipe != 'ner']\n",
    "    with nlp.disable_pipes(*other_pipes):  # only train NER\n",
    "        optimizer = nlp.begin_training()\n",
    "        for itn in range(iterations):\n",
    "            print(\"Statring iteration \" + str(itn))\n",
    "            random.shuffle(TRAIN_DATA)\n",
    "            losses = {}\n",
    "            for text, annotations in TRAIN_DATA:\n",
    "                nlp.update(\n",
    "                    [text],  # batch of texts\n",
    "                    [annotations],  # batch of annotations\n",
    "                    drop=0.2,  # dropout - make it harder to memorise data\n",
    "                    sgd=optimizer,  # callable to update weights\n",
    "                    losses=losses)\n",
    "            print(losses)\n",
    "    return nlp\n",
    "\n",
    "\n",
    "prdnlp = train_spacy(TRAIN_DATA, 20)\n",
    "\n",
    "# Save our trained Model\n",
    "modelfile = input(\"Enter your Model Name: \")\n",
    "prdnlp.to_disk(modelfile)\n",
    "\n",
    "#Test your text\n",
    "test_text = input(\"Enter your testing text: \")\n",
    "doc = prdnlp(test_text)\n",
    "for ent in doc.ents:\n",
    "    print(ent.text, ent.start_char, ent.end_char, ent.label_)"
   ]
  },
  {
   "cell_type": "code",
   "execution_count": null,
   "metadata": {
    "id": "-kb-_UWqHzwT"
   },
   "outputs": [],
   "source": []
  },
  {
   "cell_type": "code",
   "execution_count": null,
   "metadata": {},
   "outputs": [],
   "source": []
  }
 ],
 "metadata": {
  "colab": {
   "name": "NER.ipynb",
   "provenance": []
  },
  "kernelspec": {
   "display_name": "Python 3",
   "language": "python",
   "name": "python3"
  },
  "language_info": {
   "codemirror_mode": {
    "name": "ipython",
    "version": 3
   },
   "file_extension": ".py",
   "mimetype": "text/x-python",
   "name": "python",
   "nbconvert_exporter": "python",
   "pygments_lexer": "ipython3",
   "version": "3.8.3"
  }
 },
 "nbformat": 4,
 "nbformat_minor": 1
}
